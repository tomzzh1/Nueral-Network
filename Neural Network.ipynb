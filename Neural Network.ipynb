{
 "cells": [
  {
   "cell_type": "markdown",
   "metadata": {},
   "source": [
    "## Neural Network"
   ]
  },
  {
   "cell_type": "code",
   "execution_count": 1,
   "metadata": {},
   "outputs": [],
   "source": [
    "import pandas as pd\n",
    "from matplotlib import pyplot as plt\n",
    "import numpy as np\n",
    "from IPython.display import Image\n",
    "import sympy as sym\n",
    "import handcalcs.render"
   ]
  },
  {
   "cell_type": "markdown",
   "metadata": {},
   "source": [
    "## Part 1\n",
    "### Create the Data"
   ]
  },
  {
   "cell_type": "code",
   "execution_count": 2,
   "metadata": {},
   "outputs": [
    {
     "data": {
      "text/html": [
       "<div>\n",
       "<style scoped>\n",
       "    .dataframe tbody tr th:only-of-type {\n",
       "        vertical-align: middle;\n",
       "    }\n",
       "\n",
       "    .dataframe tbody tr th {\n",
       "        vertical-align: top;\n",
       "    }\n",
       "\n",
       "    .dataframe thead th {\n",
       "        text-align: right;\n",
       "    }\n",
       "</style>\n",
       "<table border=\"1\" class=\"dataframe\">\n",
       "  <thead>\n",
       "    <tr style=\"text-align: right;\">\n",
       "      <th></th>\n",
       "      <th>Drug Dosage</th>\n",
       "      <th>Drug Effectiveness</th>\n",
       "    </tr>\n",
       "  </thead>\n",
       "  <tbody>\n",
       "    <tr>\n",
       "      <th>0</th>\n",
       "      <td>0.00</td>\n",
       "      <td>0</td>\n",
       "    </tr>\n",
       "    <tr>\n",
       "      <th>1</th>\n",
       "      <td>0.10</td>\n",
       "      <td>0</td>\n",
       "    </tr>\n",
       "    <tr>\n",
       "      <th>2</th>\n",
       "      <td>0.20</td>\n",
       "      <td>0</td>\n",
       "    </tr>\n",
       "    <tr>\n",
       "      <th>3</th>\n",
       "      <td>0.50</td>\n",
       "      <td>1</td>\n",
       "    </tr>\n",
       "    <tr>\n",
       "      <th>4</th>\n",
       "      <td>0.55</td>\n",
       "      <td>1</td>\n",
       "    </tr>\n",
       "    <tr>\n",
       "      <th>5</th>\n",
       "      <td>0.51</td>\n",
       "      <td>1</td>\n",
       "    </tr>\n",
       "    <tr>\n",
       "      <th>6</th>\n",
       "      <td>0.90</td>\n",
       "      <td>0</td>\n",
       "    </tr>\n",
       "    <tr>\n",
       "      <th>7</th>\n",
       "      <td>0.92</td>\n",
       "      <td>0</td>\n",
       "    </tr>\n",
       "  </tbody>\n",
       "</table>\n",
       "</div>"
      ],
      "text/plain": [
       "   Drug Dosage  Drug Effectiveness\n",
       "0         0.00                   0\n",
       "1         0.10                   0\n",
       "2         0.20                   0\n",
       "3         0.50                   1\n",
       "4         0.55                   1\n",
       "5         0.51                   1\n",
       "6         0.90                   0\n",
       "7         0.92                   0"
      ]
     },
     "execution_count": 2,
     "metadata": {},
     "output_type": "execute_result"
    }
   ],
   "source": [
    "data = pd.DataFrame({'Drug Dosage': [0,0.1,0.2, 0.5,0.55,0.51, 0.9, 0.92],\n",
    "                     'Drug Effectiveness':[0,0,0, 1,1,1, 0,0]})\n",
    "data"
   ]
  },
  {
   "cell_type": "markdown",
   "metadata": {},
   "source": [
    "### To simplify, we assume that the parameters for the connections are correct\n",
    "#### We use the output to feed into the activation function"
   ]
  },
  {
   "cell_type": "code",
   "execution_count": 3,
   "metadata": {},
   "outputs": [
    {
     "data": {
      "text/plain": [
       "array([  2.14 ,   1.796,   1.452,   1.108,   0.764,   0.42 ,   0.076,\n",
       "        -0.268,  -0.612,  -0.956,  -1.3  ,  -1.644,  -1.988,  -2.332,\n",
       "        -2.676,  -3.02 ,  -3.364,  -3.708,  -4.052,  -4.396,  -4.74 ,\n",
       "        -5.084,  -5.428,  -5.772,  -6.116,  -6.46 ,  -6.804,  -7.148,\n",
       "        -7.492,  -7.836,  -8.18 ,  -8.524,  -8.868,  -9.212,  -9.556,\n",
       "        -9.9  , -10.244, -10.588, -10.932, -11.276, -11.62 , -11.964,\n",
       "       -12.308, -12.652, -12.996, -13.34 , -13.684, -14.028, -14.372,\n",
       "       -14.716, -15.06 , -15.404, -15.748, -16.092, -16.436, -16.78 ,\n",
       "       -17.124, -17.468, -17.812, -18.156, -18.5  , -18.844, -19.188,\n",
       "       -19.532, -19.876, -20.22 , -20.564, -20.908, -21.252, -21.596,\n",
       "       -21.94 , -22.284, -22.628, -22.972, -23.316, -23.66 , -24.004,\n",
       "       -24.348, -24.692, -25.036, -25.38 , -25.724, -26.068, -26.412,\n",
       "       -26.756, -27.1  , -27.444, -27.788, -28.132, -28.476, -28.82 ,\n",
       "       -29.164, -29.508, -29.852, -30.196, -30.54 , -30.884, -31.228,\n",
       "       -31.572, -31.916])"
      ]
     },
     "execution_count": 3,
     "metadata": {},
     "output_type": "execute_result"
    }
   ],
   "source": [
    "w1 = -34.4\n",
    "b1 = 2.14\n",
    "\n",
    "np.array(range(0, 100, 1))/100 * w1 + b1"
   ]
  },
  {
   "cell_type": "markdown",
   "metadata": {},
   "source": [
    "### Activation Function \n",
    "#### input the data into the hidden layer\n",
    "#### This case is the softplus function"
   ]
  },
  {
   "cell_type": "code",
   "execution_count": 4,
   "metadata": {},
   "outputs": [
    {
     "data": {
      "text/html": [
       "<img src=\"NN Activation Function.png\" width=\"700\" height=\"900\"/>"
      ],
      "text/plain": [
       "<IPython.core.display.Image object>"
      ]
     },
     "execution_count": 4,
     "metadata": {},
     "output_type": "execute_result"
    }
   ],
   "source": [
    "Image(url= \"NN Activation Function.png\", width=700, height=900)"
   ]
  },
  {
   "cell_type": "code",
   "execution_count": 5,
   "metadata": {
    "scrolled": true
   },
   "outputs": [
    {
     "data": {
      "text/plain": [
       "array([-2.92660238e+00, -2.53440979e+00, -2.16104625e+00, -1.81134641e+00,\n",
       "       -1.49032107e+00, -1.20254809e+00, -9.51429709e-01, -7.38527972e-01,\n",
       "       -5.63227963e-01, -4.22872729e-01, -3.13310990e-01, -2.29636585e-01,\n",
       "       -1.66875837e-01, -1.20473035e-01, -8.65436467e-02, -6.19421597e-02,\n",
       "       -4.42150642e-02, -3.14997557e-02, -2.24095699e-02, -1.59265526e-02,\n",
       "       -1.13108908e-02, -8.02875900e-03, -5.69693104e-03, -4.04129343e-03,\n",
       "       -2.86628545e-03, -2.03264450e-03, -1.44132832e-03, -1.02196419e-03,\n",
       "       -7.24582860e-04, -5.13719415e-04, -3.64211498e-04, -2.58210594e-04,\n",
       "       -1.83058251e-04, -1.29777949e-04, -9.20046791e-05, -6.52254504e-05,\n",
       "       -4.62405462e-05, -3.27814306e-05, -2.32397897e-05, -1.64754021e-05,\n",
       "       -1.16799107e-05, -8.28023739e-06, -5.87010526e-06, -4.16149016e-06,\n",
       "       -2.95020213e-06, -2.09148433e-06, -1.48271409e-06, -1.05113908e-06,\n",
       "       -7.45182992e-07, -5.28281824e-07, -3.74514289e-07, -2.65504025e-07,\n",
       "       -1.88223489e-07, -1.33437079e-07, -9.45974068e-08, -6.70628391e-08,\n",
       "       -4.75427870e-08, -3.37044571e-08, -2.38940647e-08, -1.69391938e-08,\n",
       "       -1.20086845e-08, -8.51330395e-09, -6.03532727e-09, -4.27861827e-09,\n",
       "       -3.03323630e-09, -2.15034901e-09, -1.52444439e-09, -1.08072280e-09,\n",
       "       -7.66155739e-10, -5.43149836e-10, -3.85054744e-10, -2.72976353e-10,\n",
       "       -1.93520933e-10, -1.37192502e-10, -9.72598446e-11, -6.89502899e-11,\n",
       "       -4.88807661e-11, -3.46531026e-11, -2.45665266e-11, -1.74158910e-11,\n",
       "       -1.23467681e-11, -8.75297612e-12, -6.20528073e-12, -4.39914771e-12,\n",
       "       -3.11866089e-12, -2.21083152e-12, -1.56741287e-12, -1.11104459e-12,\n",
       "       -7.87747645e-13, -5.58553204e-13, -3.95750099e-13, -2.80575563e-13,\n",
       "       -1.98885353e-13, -1.41153755e-13, -9.98756633e-14, -7.10098647e-14,\n",
       "       -5.02264896e-14, -3.55049323e-14, -2.54019028e-14, -1.78967952e-14])"
      ]
     },
     "execution_count": 5,
     "metadata": {},
     "output_type": "execute_result"
    }
   ],
   "source": [
    "w2 = -1.3\n",
    "out1 = np.log(1 + np.exp(np.array(range(0, 100, 1))/100 * w1 + b1)) * w2\n",
    "out1"
   ]
  },
  {
   "cell_type": "code",
   "execution_count": 6,
   "metadata": {},
   "outputs": [
    {
     "data": {
      "text/plain": [
       "array([3.49560146, 3.45067062, 3.40598836, 3.36155818, 3.31738357,\n",
       "       3.27346803, 3.22981503, 3.18642802, 3.14331046, 3.10046576,\n",
       "       3.05789732, 3.01560851, 2.97360269, 2.93188316, 2.89045322,\n",
       "       2.84931609, 2.80847499, 2.76793308, 2.72769348, 2.68775925,\n",
       "       2.64813341, 2.60881893, 2.5698187 , 2.53113557, 2.49277232,\n",
       "       2.45473167, 2.41701626, 2.37962867, 2.34257139, 2.30584685,\n",
       "       2.2694574 , 2.23340528, 2.19769268, 2.16232167, 2.12729427,\n",
       "       2.09261236, 2.05827776, 2.02429218, 1.99065724, 1.95737445,\n",
       "       1.92444521, 1.89187083, 1.85965252, 1.82779136, 1.79628833,\n",
       "       1.76514431, 1.73436006, 1.70393623, 1.67387336, 1.64417187,\n",
       "       1.61483206, 1.58585414, 1.55723818, 1.52898414, 1.50109188,\n",
       "       1.47356112, 1.4463915 , 1.41958252, 1.39313356, 1.36704392,\n",
       "       1.34131276, 1.31593914, 1.29092201, 1.26626021, 1.24195248,\n",
       "       1.21799744, 1.19439363, 1.17113946, 1.14823327, 1.12567328,\n",
       "       1.10345762, 1.08158433, 1.06005136, 1.03885657, 1.01799773,\n",
       "       0.99747253, 0.97727857, 0.9574134 , 0.93787446, 0.91865913,\n",
       "       0.89976472, 0.88118848, 0.86292759, 0.84497917, 0.82734027,\n",
       "       0.8100079 , 0.79297901, 0.7762505 , 0.75981923, 0.743682  ,\n",
       "       0.7278356 , 0.71227674, 0.69700214, 0.68200845, 0.66729231,\n",
       "       0.65285033, 0.63867909, 0.62477517, 0.61113511, 0.59775543])"
      ]
     },
     "execution_count": 6,
     "metadata": {},
     "output_type": "execute_result"
    }
   ],
   "source": [
    "w3 = -2.52\n",
    "b2 = 1.29\n",
    "w4 = 2.28\n",
    "\n",
    "\n",
    "out2 = np.log(1 + np.exp(np.array(range(0, 100, 1))/100 * -2.52 + 1.29)) * 2.28\n",
    "out2"
   ]
  },
  {
   "cell_type": "code",
   "execution_count": 7,
   "metadata": {},
   "outputs": [
    {
     "data": {
      "text/plain": [
       "array([-0.01100092,  0.33626083,  0.66494211,  0.97021176,  1.2470625 ,\n",
       "        1.49091994,  1.69838532,  1.86790005,  2.0000825 ,  2.09759303,\n",
       "        2.16458633,  2.20597193,  2.22672685,  2.23141013,  2.22390957,\n",
       "        2.20737393,  2.18425993,  2.15643333,  2.12528391,  2.0918327 ,\n",
       "        2.05682252,  2.02079017,  1.98412176,  1.94709427,  1.90990603,\n",
       "        1.87269902,  1.83557493,  1.7986067 ,  1.76184681,  1.72533313,\n",
       "        1.68909319,  1.65314707,  1.61750962,  1.58219189,  1.54720226,\n",
       "        1.51254713,  1.47823152,  1.4442594 ,  1.410634  ,  1.37735797,\n",
       "        1.34443353,  1.31186255,  1.27964665,  1.24778719,  1.21628538,\n",
       "        1.18514222,  1.15435858,  1.12393518,  1.09387262,  1.06417134,\n",
       "        1.03483169,  1.00585387,  0.97723799,  0.948984  ,  0.92109178,\n",
       "        0.89356106,  0.86639145,  0.83958248,  0.81313354,  0.78704391,\n",
       "        0.76131275,  0.73593913,  0.71092201,  0.68626021,  0.66195248,\n",
       "        0.63799744,  0.61439363,  0.59113946,  0.56823327,  0.54567328,\n",
       "        0.52345762,  0.50158433,  0.48005136,  0.45885657,  0.43799773,\n",
       "        0.41747253,  0.39727857,  0.3774134 ,  0.35787446,  0.33865913,\n",
       "        0.31976472,  0.30118848,  0.28292759,  0.26497917,  0.24734027,\n",
       "        0.2300079 ,  0.21297901,  0.1962505 ,  0.17981923,  0.163682  ,\n",
       "        0.1478356 ,  0.13227674,  0.11700214,  0.10200845,  0.08729231,\n",
       "        0.07285033,  0.05867909,  0.04477517,  0.03113511,  0.01775543])"
      ]
     },
     "execution_count": 7,
     "metadata": {},
     "output_type": "execute_result"
    }
   ],
   "source": [
    "pred = out1 + out2 - 0.58\n",
    "pred"
   ]
  },
  {
   "cell_type": "code",
   "execution_count": 8,
   "metadata": {},
   "outputs": [
    {
     "data": {
      "image/png": "[encoded data removed]",
      "text/plain": [
       "<Figure size 432x288 with 1 Axes>"
      ]
     },
     "metadata": {
      "needs_background": "light"
     },
     "output_type": "display_data"
    }
   ],
   "source": [
    "plt.title('Neural Network Decision Boundary')\n",
    "plt.plot(np.array(range(0, 100, 1))/100, pred)\n",
    "plt.scatter(data['Drug Dosage'], data['Drug Effectiveness'], c = 'red')\n",
    "plt.show()"
   ]
  },
  {
   "cell_type": "markdown",
   "metadata": {},
   "source": [
    "## Part 2\n",
    "\n",
    "### Use Gradient Descent to optimize the $\\beta_3$"
   ]
  },
  {
   "cell_type": "code",
   "execution_count": 9,
   "metadata": {},
   "outputs": [
    {
     "data": {
      "text/html": [
       "<div>\n",
       "<style scoped>\n",
       "    .dataframe tbody tr th:only-of-type {\n",
       "        vertical-align: middle;\n",
       "    }\n",
       "\n",
       "    .dataframe tbody tr th {\n",
       "        vertical-align: top;\n",
       "    }\n",
       "\n",
       "    .dataframe thead th {\n",
       "        text-align: right;\n",
       "    }\n",
       "</style>\n",
       "<table border=\"1\" class=\"dataframe\">\n",
       "  <thead>\n",
       "    <tr style=\"text-align: right;\">\n",
       "      <th></th>\n",
       "      <th>Drug Dosage</th>\n",
       "      <th>Drug Effectiveness</th>\n",
       "    </tr>\n",
       "  </thead>\n",
       "  <tbody>\n",
       "    <tr>\n",
       "      <th>0</th>\n",
       "      <td>0.0</td>\n",
       "      <td>0</td>\n",
       "    </tr>\n",
       "    <tr>\n",
       "      <th>1</th>\n",
       "      <td>0.5</td>\n",
       "      <td>1</td>\n",
       "    </tr>\n",
       "    <tr>\n",
       "      <th>2</th>\n",
       "      <td>1.0</td>\n",
       "      <td>0</td>\n",
       "    </tr>\n",
       "  </tbody>\n",
       "</table>\n",
       "</div>"
      ],
      "text/plain": [
       "   Drug Dosage  Drug Effectiveness\n",
       "0          0.0                   0\n",
       "1          0.5                   1\n",
       "2          1.0                   0"
      ]
     },
     "execution_count": 9,
     "metadata": {},
     "output_type": "execute_result"
    }
   ],
   "source": [
    "data = pd.DataFrame({'Drug Dosage': [0,0.5,1],\n",
    "                     'Drug Effectiveness':[0,1,0]})\n",
    "data"
   ]
  },
  {
   "cell_type": "code",
   "execution_count": 10,
   "metadata": {},
   "outputs": [
    {
     "data": {
      "text/plain": [
       "array([-0.26175576, -0.2697309 , -0.27792245, -0.28633478, -0.29497226,\n",
       "       -0.30383926, -0.31294015, -0.3222793 , -0.33186105, -0.34168973,\n",
       "       -0.35176966, -0.3621051 , -0.37270029, -0.38355943, -0.39468667,\n",
       "       -0.40608611, -0.41776178, -0.42971764, -0.44195759, -0.45448544,\n",
       "       -0.46730492, -0.48041966, -0.49383319, -0.50754895, -0.52157025,\n",
       "       -0.53590029, -0.55054214, -0.56549875, -0.58077292, -0.59636732,\n",
       "       -0.61228447, -0.62852673, -0.64509632, -0.66199527, -0.67922548,\n",
       "       -0.69678866, -0.71468634, -0.73291988, -0.75149046, -0.77039908,\n",
       "       -0.78964655, -0.80923351, -0.82916038, -0.84942742, -0.87003469,\n",
       "       -0.89098205, -0.91226919, -0.9338956 , -0.95586059, -0.97816326,\n",
       "       -1.00080256, -1.02377724, -1.04708587, -1.07072684, -1.0946984 ,\n",
       "       -1.11899858, -1.14362528, -1.16857624, -1.19384903, -1.21944108,\n",
       "       -1.24534966, -1.27157192, -1.29810487, -1.32494538, -1.35209022,\n",
       "       -1.37953602, -1.40727932, -1.43531654, -1.46364402, -1.49225799,\n",
       "       -1.52115461, -1.55032996, -1.57978005, -1.60950082, -1.63948816,\n",
       "       -1.6697379 , -1.70024582, -1.73100767, -1.76201916, -1.79327599,\n",
       "       -1.8247738 , -1.85650825, -1.88847497, -1.9206696 , -1.95308774,\n",
       "       -1.98572505, -2.01857714, -2.05163968, -2.08490834, -2.1183788 ,\n",
       "       -2.15204677, -2.18590801, -2.21995828, -2.25419339, -2.28860918,\n",
       "       -2.32320156, -2.35796645, -2.39289983, -2.42799772, -2.4632562 ])"
      ]
     },
     "execution_count": 10,
     "metadata": {},
     "output_type": "execute_result"
    }
   ],
   "source": [
    "w1 = 3.34\n",
    "b1 = -1.43\n",
    "w2 = -1.22\n",
    "b3 = 0\n",
    "\n",
    "out1 = np.log(1 + np.exp(np.array(range(0, 100, 1))/100 * w1 + b1)) * w2  + b3\n",
    "out1"
   ]
  },
  {
   "cell_type": "code",
   "execution_count": 11,
   "metadata": {},
   "outputs": [
    {
     "data": {
      "text/plain": [
       "array([-2.34190948, -2.29038002, -2.23951817, -2.18932991, -2.13982088,\n",
       "       -2.09099638, -2.04286131, -1.9954202 , -1.94867721, -1.90263608,\n",
       "       -1.85730012, -1.81267227, -1.768755  , -1.72555036, -1.68305999,\n",
       "       -1.64128505, -1.60022629, -1.55988398, -1.52025798, -1.48134768,\n",
       "       -1.44315202, -1.40566953, -1.36889828, -1.33283589, -1.2974796 ,\n",
       "       -1.26282618, -1.22887202, -1.19561309, -1.16304497, -1.13116286,\n",
       "       -1.09996157, -1.06943558, -1.03957899, -1.01038558, -0.98184882,\n",
       "       -0.95396185, -0.92671754, -0.90010847, -0.87412695, -0.84876507,\n",
       "       -0.82401468, -0.7998674 , -0.77631468, -0.75334777, -0.73095776,\n",
       "       -0.70913559, -0.68787206, -0.66715787, -0.64698361, -0.62733976,\n",
       "       -0.60821676, -0.58960497, -0.57149471, -0.55387628, -0.53673994,\n",
       "       -0.52007597, -0.50387463, -0.48812621, -0.47282104, -0.45794948,\n",
       "       -0.44350193, -0.42946887, -0.41584083, -0.40260842, -0.38976235,\n",
       "       -0.3772934 , -0.36519246, -0.35345053, -0.34205871, -0.33100823,\n",
       "       -0.32029042, -0.30989677, -0.29981885, -0.29004841, -0.28057732,\n",
       "       -0.27139758, -0.26250134, -0.2538809 , -0.24552869, -0.2374373 ,\n",
       "       -0.22959946, -0.22200804, -0.21465608, -0.20753676, -0.2006434 ,\n",
       "       -0.19396947, -0.18750861, -0.18125457, -0.17520127, -0.16934277,\n",
       "       -0.16367328, -0.15818715, -0.15287885, -0.14774302, -0.14277442,\n",
       "       -0.13796795, -0.13331865, -0.12882166, -0.1244723 , -0.12026597])"
      ]
     },
     "execution_count": 11,
     "metadata": {},
     "output_type": "execute_result"
    }
   ],
   "source": [
    "w3 = -3.53\n",
    "b2 = 0.57\n",
    "w4 = -2.3\n",
    "\n",
    "out2 = np.log(1 + np.exp(np.array(range(0, 100, 1))/100 * w3 + b2)) * w4 + b3\n",
    "out2"
   ]
  },
  {
   "cell_type": "code",
   "execution_count": 12,
   "metadata": {},
   "outputs": [
    {
     "data": {
      "image/png": "[encoded data removed]",
      "text/plain": [
       "<Figure size 432x288 with 1 Axes>"
      ]
     },
     "metadata": {
      "needs_background": "light"
     },
     "output_type": "display_data"
    }
   ],
   "source": [
    "plt.title('Unoptimized Neural Network Decision Boundary')\n",
    "plt.plot(np.array(range(0, 100, 1))/100, out1, c = 'green')\n",
    "plt.plot(np.array(range(0, 100, 1))/100, out2, c='blue')\n",
    "plt.plot(np.array(range(0, 100, 1))/100, out1+out2, c='orange')\n",
    "plt.show()"
   ]
  },
  {
   "cell_type": "code",
   "execution_count": 13,
   "metadata": {},
   "outputs": [
    {
     "data": {
      "text/plain": [
       "array([2.60366524, 2.60550302, 2.58352217])"
      ]
     },
     "execution_count": 13,
     "metadata": {},
     "output_type": "execute_result"
    }
   ],
   "source": [
    "pred = out1 + out2\n",
    "residual = np.array([0-pred[0], 1-pred[49], 0-pred[99]])\n",
    "residual"
   ]
  },
  {
   "cell_type": "code",
   "execution_count": 14,
   "metadata": {},
   "outputs": [
    {
     "data": {
      "text/latex": [
       "\\[\n",
       "\\begin{aligned}\n",
       "\\mathrm{SSR} &= \\left( \\mathrm{residual} \\right) ^{ 2 } = \\left( [2.604,\\ 2.606,\\ 2.584] \\right) ^{ 2 } &= 20.242\n",
       "\\\\[10pt]\n",
       "\\mathrm{SSR} &= 20.242\\;\n",
       "\\\\[10pt]\n",
       "\\mathrm{SSR} &= 20.242\\;\n",
       "\\end{aligned}\n",
       "\\]"
      ],
      "text/plain": [
       "<IPython.core.display.Latex object>"
      ]
     },
     "metadata": {},
     "output_type": "display_data"
    }
   ],
   "source": [
    "%%render\n",
    "\n",
    "SSR = residual**2\n",
    "SSR=SSR.sum()\n",
    "SSR"
   ]
  },
  {
   "cell_type": "code",
   "execution_count": 15,
   "metadata": {},
   "outputs": [
    {
     "data": {
      "text/plain": [
       "array([1.60366524, 1.60550302, 1.58352217])"
      ]
     },
     "execution_count": 15,
     "metadata": {},
     "output_type": "execute_result"
    }
   ],
   "source": [
    "pred = out1 + out2 + 1\n",
    "residual = np.array([0-pred[0], 1-pred[49], 0-pred[99]])\n",
    "residual"
   ]
  },
  {
   "cell_type": "code",
   "execution_count": 16,
   "metadata": {},
   "outputs": [
    {
     "data": {
      "text/latex": [
       "\\[\n",
       "\\begin{aligned}\n",
       "\\mathrm{SSR} &= \\left( \\mathrm{residual} \\right) ^{ 2 } = \\left( [1.604,\\ 1.606,\\ 1.584] \\right) ^{ 2 } &= 7.657\n",
       "\\\\[10pt]\n",
       "\\mathrm{SSR} &= 7.657\\;\n",
       "\\\\[10pt]\n",
       "\\mathrm{SSR} &= 7.657\\;\n",
       "\\end{aligned}\n",
       "\\]"
      ],
      "text/plain": [
       "<IPython.core.display.Latex object>"
      ]
     },
     "metadata": {},
     "output_type": "display_data"
    }
   ],
   "source": [
    "%%render\n",
    "\n",
    "\n",
    "SSR = residual**2\n",
    "SSR=SSR.sum()\n",
    "SSR"
   ]
  },
  {
   "cell_type": "code",
   "execution_count": 17,
   "metadata": {},
   "outputs": [
    {
     "name": "stdout",
     "output_type": "stream",
     "text": [
      "[0.60366524 0.60550302 0.58352217]\n"
     ]
    }
   ],
   "source": [
    "pred = out1 + out2 + 2\n",
    "residual = np.array([0-pred[0], 1-pred[49], 0-pred[99]])\n",
    "print(residual)\n"
   ]
  },
  {
   "cell_type": "code",
   "execution_count": 18,
   "metadata": {},
   "outputs": [
    {
     "data": {
      "text/latex": [
       "\\[\n",
       "\\begin{aligned}\n",
       "\\mathrm{SSR} &= \\left( \\mathrm{residual} \\right) ^{ 2 } = \\left( [0.604,\\ 0.606,\\ 0.584] \\right) ^{ 2 } &= 1.072\n",
       "\\\\[10pt]\n",
       "\\mathrm{SSR} &= 1.072\\;\n",
       "\\\\[10pt]\n",
       "\\mathrm{SSR} &= 1.072\\;\n",
       "\\end{aligned}\n",
       "\\]"
      ],
      "text/plain": [
       "<IPython.core.display.Latex object>"
      ]
     },
     "metadata": {},
     "output_type": "display_data"
    }
   ],
   "source": [
    "%%render\n",
    "\n",
    "\n",
    "SSR = residual**2\n",
    "SSR=SSR.sum()\n",
    "SSR"
   ]
  },
  {
   "cell_type": "code",
   "execution_count": 19,
   "metadata": {},
   "outputs": [
    {
     "name": "stdout",
     "output_type": "stream",
     "text": [
      "[-0.39633476 -0.39449698 -0.41647783]\n"
     ]
    }
   ],
   "source": [
    "pred = out1 + out2 + 3\n",
    "residual = np.array([0-pred[0], 1-pred[49], 0-pred[99]])\n",
    "print(residual)\n"
   ]
  },
  {
   "cell_type": "code",
   "execution_count": 20,
   "metadata": {},
   "outputs": [
    {
     "data": {
      "text/latex": [
       "\\[\n",
       "\\begin{aligned}\n",
       "\\mathrm{SSR} &= \\left( \\mathrm{residual} \\right) ^{ 2 } = \\left( [-0.396,\\ -0.394,\\ -0.416] \\right) ^{ 2 } &= 0.486\n",
       "\\\\[10pt]\n",
       "\\mathrm{SSR} &= 0.486\\;\n",
       "\\\\[10pt]\n",
       "\\mathrm{SSR} &= 0.486\\;\n",
       "\\end{aligned}\n",
       "\\]"
      ],
      "text/plain": [
       "<IPython.core.display.Latex object>"
      ]
     },
     "metadata": {},
     "output_type": "display_data"
    }
   ],
   "source": [
    "%%render\n",
    "\n",
    "\n",
    "SSR = residual**2\n",
    "SSR=SSR.sum()\n",
    "SSR"
   ]
  },
  {
   "cell_type": "code",
   "execution_count": 21,
   "metadata": {},
   "outputs": [
    {
     "data": {
      "text/latex": [
       "$\\displaystyle 6 x - 2$"
      ],
      "text/plain": [
       "6*x - 2"
      ]
     },
     "execution_count": 21,
     "metadata": {},
     "output_type": "execute_result"
    }
   ],
   "source": [
    "x, y, z, w = sym.symbols('x y z w')\n",
    "\n",
    "f = (0 - x)**2 + (1 - x)**2 + (0 - x)**2 \n",
    "\n",
    "sym.diff(f, x)"
   ]
  },
  {
   "cell_type": "code",
   "execution_count": 22,
   "metadata": {},
   "outputs": [
    {
     "name": "stdout",
     "output_type": "stream",
     "text": [
      "-1.5585380860000002\n"
     ]
    },
    {
     "data": {
      "text/plain": [
       "1.5585380860000002"
      ]
     },
     "execution_count": 22,
     "metadata": {},
     "output_type": "execute_result"
    }
   ],
   "source": [
    "slop = -2 * (0 - -2.60366524)*1 + -2 *(1-  -1.60550302)*1 + -2 * (0 - -2.58352217)*1\n",
    "learning_rate = 0.1 \n",
    "step_size = learning_rate * slop\n",
    "print(step_size)\n",
    "\n",
    "old_beta = 0\n",
    "new_beta = old_beta - step_size\n",
    "old_beta = new_beta\n",
    "new_beta"
   ]
  },
  {
   "cell_type": "code",
   "execution_count": 23,
   "metadata": {},
   "outputs": [
    {
     "name": "stdout",
     "output_type": "stream",
     "text": [
      "-0.6234152347360036\n"
     ]
    },
    {
     "data": {
      "text/plain": [
       "2.181953320736004"
      ]
     },
     "execution_count": 23,
     "metadata": {},
     "output_type": "execute_result"
    }
   ],
   "source": [
    "pred = out1 + out2 + new_beta\n",
    "\n",
    "slop = -2 * (0 - pred[0])*1 + -2 *(1-  pred[49])*1 + -2 * (0 - pred[99])*1\n",
    "\n",
    "learning_rate = 0.1 \n",
    "step_size = learning_rate * slop\n",
    "print(step_size)\n",
    "\n",
    "\n",
    "new_beta = old_beta - step_size\n",
    "old_beta = new_beta\n",
    "new_beta"
   ]
  },
  {
   "cell_type": "code",
   "execution_count": 24,
   "metadata": {},
   "outputs": [
    {
     "name": "stdout",
     "output_type": "stream",
     "text": [
      "-0.24936609389440131\n"
     ]
    },
    {
     "data": {
      "text/plain": [
       "2.4313194146304054"
      ]
     },
     "execution_count": 24,
     "metadata": {},
     "output_type": "execute_result"
    }
   ],
   "source": [
    "pred = out1 + out2 + new_beta\n",
    "\n",
    "slop = -2 * (0 - pred[0])*1 + -2 *(1-  pred[49])*1 + -2 * (0 - pred[99])*1\n",
    "\n",
    "learning_rate = 0.1 \n",
    "step_size = learning_rate * slop\n",
    "print(step_size)\n",
    "\n",
    "\n",
    "new_beta = old_beta - step_size\n",
    "old_beta = new_beta\n",
    "new_beta"
   ]
  },
  {
   "cell_type": "markdown",
   "metadata": {},
   "source": [
    "### We continue to optimize the $\\beta_3$ until the step size closes to zero"
   ]
  },
  {
   "cell_type": "code",
   "execution_count": null,
   "metadata": {},
   "outputs": [],
   "source": []
  },
  {
   "cell_type": "code",
   "execution_count": 38,
   "metadata": {},
   "outputs": [
    {
     "data": {
      "text/plain": [
       "array([0.07723941, 0.07959272, 0.0820099 , 0.08449223, 0.08704099,\n",
       "       0.08965749, 0.092343  , 0.09509881, 0.09792621, 0.10082648,\n",
       "       0.10380088, 0.10685068, 0.10997713, 0.11318147, 0.11646492,\n",
       "       0.11982869, 0.12327397, 0.12680193, 0.13041371, 0.13411046,\n",
       "       0.13789325, 0.14176318, 0.14572127, 0.14976854, 0.15390597,\n",
       "       0.15813451, 0.16245506, 0.16686848, 0.17137561, 0.17597724,\n",
       "       0.1806741 , 0.1854669 , 0.19035629, 0.19534287, 0.20042719,\n",
       "       0.20560977, 0.21089105, 0.21627144, 0.22175128, 0.22733088,\n",
       "       0.23301046, 0.23879022, 0.24467028, 0.25065071, 0.25673155,\n",
       "       0.26291274, 0.26919419, 0.27557575, 0.28205722, 0.28863834,\n",
       "       0.29531879, 0.3020982 , 0.30897616, 0.31595218, 0.32302576,\n",
       "       0.3301963 , 0.3374632 , 0.34482578, 0.35228332, 0.35983507,\n",
       "       0.36748023, 0.37521794, 0.38304734, 0.39096749, 0.39897744,\n",
       "       0.4070762 , 0.41526275, 0.42353603, 0.43189496, 0.44033842,\n",
       "       0.44886529, 0.45747441, 0.46616461, 0.47493467, 0.48378339,\n",
       "       0.49270954, 0.50171188, 0.51078915, 0.51994008, 0.52916341,\n",
       "       0.53845784, 0.54782211, 0.55725491, 0.56675496, 0.57632097,\n",
       "       0.58595165, 0.59564571, 0.60540187, 0.61521885, 0.62509538,\n",
       "       0.6350302 , 0.64502204, 0.65506966, 0.66517182, 0.6753273 ,\n",
       "       0.68553489, 0.69579338, 0.70610159, 0.71645834, 0.72686249])"
      ]
     },
     "execution_count": 38,
     "metadata": {},
     "output_type": "execute_result"
    }
   ],
   "source": [
    "w1 = 3.34\n",
    "b1 = -1.43\n",
    "w2 = 0.36\n",
    "b3 = 0\n",
    "\n",
    "out1 = np.log(1 + np.exp(np.array(range(0, 100, 1))/100 * w1 + b1)) * w2  + b3\n",
    "out1"
   ]
  },
  {
   "cell_type": "code",
   "execution_count": 39,
   "metadata": {},
   "outputs": [
    {
     "data": {
      "text/plain": [
       "array([0.64147955, 0.62736496, 0.61343324, 0.59968602, 0.58612485,\n",
       "       0.57275118, 0.55956636, 0.54657162, 0.53376811, 0.52115684,\n",
       "       0.50873873, 0.49651458, 0.48448506, 0.47265075, 0.46101208,\n",
       "       0.44956938, 0.43832285, 0.42727257, 0.41641849, 0.40576045,\n",
       "       0.39529816, 0.38503122, 0.37495909, 0.36508114, 0.35539659,\n",
       "       0.34590456, 0.33660408, 0.32749402, 0.31857319, 0.30984026,\n",
       "       0.30129382, 0.29293235, 0.28475424, 0.27675779, 0.2689412 ,\n",
       "       0.26130259, 0.25384002, 0.24655145, 0.23943477, 0.23248782,\n",
       "       0.22570837, 0.21909411, 0.21264272, 0.20635178, 0.20021886,\n",
       "       0.19424149, 0.18841713, 0.18274324, 0.17721725, 0.17183654,\n",
       "       0.1665985 , 0.16150049, 0.15653986, 0.15171394, 0.14702007,\n",
       "       0.14245559, 0.13801783, 0.13370414, 0.12951185, 0.12543834,\n",
       "       0.12148096, 0.11763713, 0.11390423, 0.1102797 , 0.10676099,\n",
       "       0.10334558, 0.10003098, 0.09681471, 0.09369434, 0.09066747,\n",
       "       0.08773173, 0.08488477, 0.08212429, 0.07944804, 0.07685379,\n",
       "       0.07433934, 0.07190254, 0.06954129, 0.06725351, 0.06503717,\n",
       "       0.06289029, 0.0608109 , 0.0587971 , 0.05684703, 0.05495884,\n",
       "       0.05313077, 0.05136105, 0.04964799, 0.04798991, 0.04638519,\n",
       "       0.04483225, 0.04332952, 0.04187551, 0.04046874, 0.03910778,\n",
       "       0.03779122, 0.03651772, 0.03528593, 0.03409459, 0.03294242])"
      ]
     },
     "execution_count": 39,
     "metadata": {},
     "output_type": "execute_result"
    }
   ],
   "source": [
    "w3 = -3.53\n",
    "b2 = 0.57\n",
    "w4 = 0.63\n",
    "\n",
    "out2 = np.log(1 + np.exp(np.array(range(0, 100, 1))/100 * w3 + b2)) * w4 + b3\n",
    "out2"
   ]
  },
  {
   "cell_type": "code",
   "execution_count": 27,
   "metadata": {},
   "outputs": [
    {
     "data": {
      "image/png": "[encoded data removed]",
      "text/plain": [
       "<Figure size 432x288 with 1 Axes>"
      ]
     },
     "metadata": {
      "needs_background": "light"
     },
     "output_type": "display_data"
    }
   ],
   "source": [
    "plt.title('Unoptimized Neural Network Decision Boundary')\n",
    "plt.plot(np.array(range(0, 100, 1))/100, out1, c = 'green')\n",
    "plt.plot(np.array(range(0, 100, 1))/100, out2, c='blue')\n",
    "plt.plot(np.array(range(0, 100, 1))/100, out1+out2, c='orange')\n",
    "plt.show()"
   ]
  },
  {
   "cell_type": "code",
   "execution_count": 40,
   "metadata": {},
   "outputs": [
    {
     "data": {
      "text/plain": [
       "array([-0.71871896,  0.53808271, -0.7598049 ])"
      ]
     },
     "execution_count": 40,
     "metadata": {},
     "output_type": "execute_result"
    }
   ],
   "source": [
    "pred = out1 + out2\n",
    "residual = np.array([0-pred[0], 1-pred[50], 0-pred[99]])\n",
    "residual"
   ]
  },
  {
   "cell_type": "code",
   "execution_count": 29,
   "metadata": {},
   "outputs": [
    {
     "data": {
      "text/latex": [
       "\\[\n",
       "\\begin{aligned}\n",
       "\\mathrm{SSR} &= \\left( \\mathrm{residual} \\right) ^{ 2 } = \\left( [-0.719,\\ 0.54,\\ -0.76] \\right) ^{ 2 } &= 1.385\n",
       "\\\\[10pt]\n",
       "\\mathrm{SSR} &= 1.385\\;\n",
       "\\end{aligned}\n",
       "\\]"
      ],
      "text/plain": [
       "<IPython.core.display.Latex object>"
      ]
     },
     "metadata": {},
     "output_type": "display_data"
    }
   ],
   "source": [
    "%%render\n",
    "\n",
    "SSR = (residual**2).sum()\n",
    "SSR=SSR.sum()\n"
   ]
  },
  {
   "cell_type": "code",
   "execution_count": 48,
   "metadata": {},
   "outputs": [],
   "source": [
    "out1 = np.log(1 + np.exp(np.array(range(0, 101, 50))/100 * w1 + b1)) + b3\n",
    "\n",
    "out2 = np.log(1 + np.exp(np.array(range(0, 101, 50))/100 * w3 + b2)) + b3\n"
   ]
  },
  {
   "cell_type": "code",
   "execution_count": 44,
   "metadata": {},
   "outputs": [
    {
     "data": {
      "text/plain": [
       "(array([0.2145539 , 0.82032997, 2.04809132]),\n",
       " array([1.01822151, 0.26444207, 0.05052097]))"
      ]
     },
     "execution_count": 44,
     "metadata": {},
     "output_type": "execute_result"
    }
   ],
   "source": [
    "out1, out2"
   ]
  },
  {
   "cell_type": "code",
   "execution_count": 45,
   "metadata": {},
   "outputs": [
    {
     "data": {
      "text/latex": [
       "\\[\n",
       "\\begin{aligned}\n",
       "\\mathrm{pred} &= \\mathrm{out1} \\cdot \\mathrm{w1} + \\mathrm{out2} \\cdot \\mathrm{w3} + \\mathrm{b1} = [0.215,\\ 0.82,\\ 2.048] \\cdot 3.34 + [1.018,\\ 0.264,\\ 0.051] \\cdot -3.53 + -1.43 &= [-4.308,\\ 0.376,\\ 5.232]\n",
       "\\end{aligned}\n",
       "\\]"
      ],
      "text/plain": [
       "<IPython.core.display.Latex object>"
      ]
     },
     "metadata": {},
     "output_type": "display_data"
    }
   ],
   "source": [
    "%%render\n",
    "\n",
    "pred = out1 * w1 + out2 * w3 +b1"
   ]
  },
  {
   "cell_type": "code",
   "execution_count": 60,
   "metadata": {},
   "outputs": [],
   "source": [
    "learning_rate = 0.1\n",
    "gradient1 = (-2 * residual*out1).sum()\n",
    "gradient2 = (-2 * residual*out2).sum()\n",
    "gradient3 = (-2 * residual).sum()"
   ]
  },
  {
   "cell_type": "code",
   "execution_count": 64,
   "metadata": {},
   "outputs": [
    {
     "name": "stdout",
     "output_type": "stream",
     "text": [
      "2.537896831286016 1.2558189539841742 1.8808823060778417\n"
     ]
    }
   ],
   "source": [
    "print(gradient1, gradient2, gradient3)"
   ]
  },
  {
   "cell_type": "code",
   "execution_count": 65,
   "metadata": {},
   "outputs": [
    {
     "name": "stdout",
     "output_type": "stream",
     "text": [
      "0.2537896831286016\n",
      "0.12558189539841744\n",
      "0.18808823060778418\n"
     ]
    }
   ],
   "source": [
    "print(gradient1 * learning_rate)\n",
    "print(gradient2 * learning_rate)\n",
    "print(gradient3 * learning_rate)"
   ]
  }
 ],
 "metadata": {
  "kernelspec": {
   "display_name": "Python 3",
   "language": "python",
   "name": "python3"
  },
  "language_info": {
   "codemirror_mode": {
    "name": "ipython",
    "version": 3
   },
   "file_extension": ".py",
   "mimetype": "text/x-python",
   "name": "python",
   "nbconvert_exporter": "python",
   "pygments_lexer": "ipython3",
   "version": "3.7.9"
  },
  "toc": {
   "base_numbering": 1,
   "nav_menu": {},
   "number_sections": true,
   "sideBar": true,
   "skip_h1_title": false,
   "title_cell": "Table of Contents",
   "title_sidebar": "Contents",
   "toc_cell": false,
   "toc_position": {},
   "toc_section_display": true,
   "toc_window_display": false
  }
 },
 "nbformat": 4,
 "nbformat_minor": 4
}
